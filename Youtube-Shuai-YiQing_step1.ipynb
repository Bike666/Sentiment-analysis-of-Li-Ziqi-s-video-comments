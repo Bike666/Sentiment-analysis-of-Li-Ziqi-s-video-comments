{
 "cells": [
  {
   "cell_type": "code",
   "execution_count": 7,
   "id": "a385d397",
   "metadata": {},
   "outputs": [],
   "source": [
    "import pandas as pd\n",
    "import googletrans\n",
    "from googletrans import Translator\n",
    "\n",
    "#!pip install googletrans\n"
   ]
  },
  {
   "cell_type": "markdown",
   "id": "008ff0f4",
   "metadata": {},
   "source": [
    "##  Loading the data"
   ]
  },
  {
   "cell_type": "code",
   "execution_count": 9,
   "id": "935cc907",
   "metadata": {},
   "outputs": [],
   "source": [
    "youtube = pd.read_excel('C:\\\\Users\\\\Lenovo\\\\OneDrive\\\\AAA Warsaw University\\\\The 3rd semester\\\\Text Mining and Social Media Mining\\\\project\\\\youtube_comment.xlsx')"
   ]
  },
  {
   "cell_type": "code",
   "execution_count": 10,
   "id": "d40e05d1",
   "metadata": {},
   "outputs": [
    {
     "data": {
      "text/html": [
       "<div>\n",
       "<style scoped>\n",
       "    .dataframe tbody tr th:only-of-type {\n",
       "        vertical-align: middle;\n",
       "    }\n",
       "\n",
       "    .dataframe tbody tr th {\n",
       "        vertical-align: top;\n",
       "    }\n",
       "\n",
       "    .dataframe thead th {\n",
       "        text-align: right;\n",
       "    }\n",
       "</style>\n",
       "<table border=\"1\" class=\"dataframe\">\n",
       "  <thead>\n",
       "    <tr style=\"text-align: right;\">\n",
       "      <th></th>\n",
       "      <th>comments</th>\n",
       "    </tr>\n",
       "  </thead>\n",
       "  <tbody>\n",
       "    <tr>\n",
       "      <th>0</th>\n",
       "      <td>I love that the sheep and the dogs follows her...</td>\n",
       "    </tr>\n",
       "    <tr>\n",
       "      <th>1</th>\n",
       "      <td>I've been a fan for over 2 years now. Ever sin...</td>\n",
       "    </tr>\n",
       "    <tr>\n",
       "      <th>2</th>\n",
       "      <td>As someone who came here from Stephanie's vide...</td>\n",
       "    </tr>\n",
       "    <tr>\n",
       "      <th>3</th>\n",
       "      <td>I SUPPORT YOU LIZIQI! I hope you haven't lost ...</td>\n",
       "    </tr>\n",
       "    <tr>\n",
       "      <th>4</th>\n",
       "      <td>真的好喜歡這集，每一種過年會有的小零嘴都做得很好</td>\n",
       "    </tr>\n",
       "  </tbody>\n",
       "</table>\n",
       "</div>"
      ],
      "text/plain": [
       "                                            comments\n",
       "0  I love that the sheep and the dogs follows her...\n",
       "1  I've been a fan for over 2 years now. Ever sin...\n",
       "2  As someone who came here from Stephanie's vide...\n",
       "3  I SUPPORT YOU LIZIQI! I hope you haven't lost ...\n",
       "4                           真的好喜歡這集，每一種過年會有的小零嘴都做得很好"
      ]
     },
     "execution_count": 10,
     "metadata": {},
     "output_type": "execute_result"
    }
   ],
   "source": [
    "youtube.head()"
   ]
  },
  {
   "cell_type": "code",
   "execution_count": 11,
   "id": "24e1069f",
   "metadata": {},
   "outputs": [
    {
     "data": {
      "text/plain": [
       "comments    78\n",
       "dtype: int64"
      ]
     },
     "execution_count": 11,
     "metadata": {},
     "output_type": "execute_result"
    }
   ],
   "source": [
    "na_check = youtube.isna()\n",
    "na_check.sum()"
   ]
  },
  {
   "cell_type": "code",
   "execution_count": 12,
   "id": "20165e52",
   "metadata": {},
   "outputs": [],
   "source": [
    "youtube = youtube.dropna()\n"
   ]
  },
  {
   "cell_type": "code",
   "execution_count": 13,
   "id": "0c19815c",
   "metadata": {
    "scrolled": true
   },
   "outputs": [
    {
     "data": {
      "text/plain": [
       "comments    0\n",
       "dtype: int64"
      ]
     },
     "execution_count": 13,
     "metadata": {},
     "output_type": "execute_result"
    }
   ],
   "source": [
    "youtube.isna().sum()"
   ]
  },
  {
   "cell_type": "markdown",
   "id": "c8848d88",
   "metadata": {},
   "source": [
    "## Translating each context to English"
   ]
  },
  {
   "cell_type": "code",
   "execution_count": null,
   "id": "b29eebc2",
   "metadata": {},
   "outputs": [],
   "source": [
    "#https://towardsdatascience.com/translate-a-pandas-data-frame-using-googletrans-library-fb0aa7fca592"
   ]
  },
  {
   "cell_type": "code",
   "execution_count": 14,
   "id": "91c5581c",
   "metadata": {},
   "outputs": [],
   "source": [
    "translator = Translator()"
   ]
  },
  {
   "cell_type": "code",
   "execution_count": 23,
   "id": "e423ed56",
   "metadata": {},
   "outputs": [],
   "source": [
    "def translate_to_english(text):\n",
    "    try:\n",
    "        \n",
    "        translation = translator.translate(text, dest='en')\n",
    "        return translation.text\n",
    "    except:\n",
    "       \n",
    "        return text\n",
    "\n"
   ]
  },
  {
   "cell_type": "code",
   "execution_count": 17,
   "id": "4ec8c77b",
   "metadata": {},
   "outputs": [],
   "source": [
    "youtube1 = youtube.head()"
   ]
  },
  {
   "cell_type": "code",
   "execution_count": 18,
   "id": "d3a9abd9",
   "metadata": {},
   "outputs": [
    {
     "data": {
      "text/html": [
       "<div>\n",
       "<style scoped>\n",
       "    .dataframe tbody tr th:only-of-type {\n",
       "        vertical-align: middle;\n",
       "    }\n",
       "\n",
       "    .dataframe tbody tr th {\n",
       "        vertical-align: top;\n",
       "    }\n",
       "\n",
       "    .dataframe thead th {\n",
       "        text-align: right;\n",
       "    }\n",
       "</style>\n",
       "<table border=\"1\" class=\"dataframe\">\n",
       "  <thead>\n",
       "    <tr style=\"text-align: right;\">\n",
       "      <th></th>\n",
       "      <th>comments</th>\n",
       "    </tr>\n",
       "  </thead>\n",
       "  <tbody>\n",
       "    <tr>\n",
       "      <th>0</th>\n",
       "      <td>I love that the sheep and the dogs follows her...</td>\n",
       "    </tr>\n",
       "    <tr>\n",
       "      <th>1</th>\n",
       "      <td>I've been a fan for over 2 years now. Ever sin...</td>\n",
       "    </tr>\n",
       "    <tr>\n",
       "      <th>2</th>\n",
       "      <td>As someone who came here from Stephanie's vide...</td>\n",
       "    </tr>\n",
       "    <tr>\n",
       "      <th>3</th>\n",
       "      <td>I SUPPORT YOU LIZIQI! I hope you haven't lost ...</td>\n",
       "    </tr>\n",
       "    <tr>\n",
       "      <th>4</th>\n",
       "      <td>真的好喜歡這集，每一種過年會有的小零嘴都做得很好</td>\n",
       "    </tr>\n",
       "  </tbody>\n",
       "</table>\n",
       "</div>"
      ],
      "text/plain": [
       "                                            comments\n",
       "0  I love that the sheep and the dogs follows her...\n",
       "1  I've been a fan for over 2 years now. Ever sin...\n",
       "2  As someone who came here from Stephanie's vide...\n",
       "3  I SUPPORT YOU LIZIQI! I hope you haven't lost ...\n",
       "4                           真的好喜歡這集，每一種過年會有的小零嘴都做得很好"
      ]
     },
     "execution_count": 18,
     "metadata": {},
     "output_type": "execute_result"
    }
   ],
   "source": [
    "youtube1"
   ]
  },
  {
   "cell_type": "code",
   "execution_count": 16,
   "id": "76356a20",
   "metadata": {},
   "outputs": [],
   "source": [
    "youtube_copy = copy.deepcopy(youtube1)\n"
   ]
  },
  {
   "cell_type": "code",
   "execution_count": 24,
   "id": "aa9924f4",
   "metadata": {},
   "outputs": [
    {
     "name": "stdout",
     "output_type": "stream",
     "text": [
      "                                            comments  \\\n",
      "0  I love that the sheep and the dogs follows her...   \n",
      "1  I've been a fan for over 2 years now. Ever sin...   \n",
      "2  As someone who came here from Stephanie's vide...   \n",
      "3  I SUPPORT YOU LIZIQI! I hope you haven't lost ...   \n",
      "4                           真的好喜歡這集，每一種過年會有的小零嘴都做得很好   \n",
      "\n",
      "                                    comments_english  \n",
      "0  I love that the sheep and the dogs follows her...  \n",
      "1  I've been a fan for over 2 years now. Ever sin...  \n",
      "2  As someone who came here from Stephanie's vide...  \n",
      "3  I SUPPORT YOU LIZIQI! I hope you haven't lost ...  \n",
      "4  I really like this episode. Every snack that i...  \n"
     ]
    },
    {
     "name": "stderr",
     "output_type": "stream",
     "text": [
      "C:\\Users\\Lenovo\\AppData\\Local\\Temp\\ipykernel_27112\\308151224.py:1: SettingWithCopyWarning: \n",
      "A value is trying to be set on a copy of a slice from a DataFrame.\n",
      "Try using .loc[row_indexer,col_indexer] = value instead\n",
      "\n",
      "See the caveats in the documentation: https://pandas.pydata.org/pandas-docs/stable/user_guide/indexing.html#returning-a-view-versus-a-copy\n",
      "  youtube1.loc[:, 'comments_english'] = youtube1['comments'].apply(translate_to_english)\n"
     ]
    }
   ],
   "source": [
    "\n",
    "youtube1.loc[:, 'comments_english'] = youtube1['comments'].apply(translate_to_english)\n",
    "\n",
    "# 显示处理后的 DataFrame\n",
    "print(youtube1[['comments', 'comments_english']])"
   ]
  },
  {
   "cell_type": "code",
   "execution_count": 25,
   "id": "45c68d1e",
   "metadata": {
    "scrolled": true
   },
   "outputs": [
    {
     "name": "stdout",
     "output_type": "stream",
     "text": [
      "                                               comments  \\\n",
      "0     I love that the sheep and the dogs follows her...   \n",
      "1     I've been a fan for over 2 years now. Ever sin...   \n",
      "2     As someone who came here from Stephanie's vide...   \n",
      "3     I SUPPORT YOU LIZIQI! I hope you haven't lost ...   \n",
      "4                              真的好喜歡這集，每一種過年會有的小零嘴都做得很好   \n",
      "...                                                 ...   \n",
      "6100          I am in love with this woman. All respect   \n",
      "6101                 I miss u liziqi,, please came back   \n",
      "6102                       I love u dear I like ur work   \n",
      "6103                 She makes me wanna be...productive   \n",
      "6104   have you ever seen a panda in the bamboo forest?   \n",
      "\n",
      "                                       comments_english  \n",
      "0     I love that the sheep and the dogs follows her...  \n",
      "1     I've been a fan for over 2 years now. Ever sin...  \n",
      "2     As someone who came here from Stephanie's vide...  \n",
      "3     I SUPPORT YOU LIZIQI! I hope you haven't lost ...  \n",
      "4     I really like this episode. Every snack that i...  \n",
      "...                                                 ...  \n",
      "6100          I am in love with this woman. All respect  \n",
      "6101                 I miss u liziqi,, please came back  \n",
      "6102                     I love u dear I like your work  \n",
      "6103                 She makes me wanna be...productive  \n",
      "6104   have you ever seen a panda in the bamboo forest?  \n",
      "\n",
      "[6027 rows x 2 columns]\n"
     ]
    }
   ],
   "source": [
    "youtube.loc[:, 'comments_english'] = youtube['comments'].apply(translate_to_english)\n",
    "\n",
    "# 显示处理后的 DataFrame\n",
    "print(youtube[['comments', 'comments_english']])"
   ]
  },
  {
   "cell_type": "markdown",
   "id": "4406cc32",
   "metadata": {},
   "source": [
    "## Saving file for futher analyze"
   ]
  },
  {
   "cell_type": "code",
   "execution_count": 26,
   "id": "ea785e2c",
   "metadata": {},
   "outputs": [],
   "source": [
    "youtube.to_excel('C:\\\\Users\\\\Lenovo\\\\OneDrive\\\\AAA Warsaw University\\\\The 3rd semester\\\\Text Mining and Social Media Mining\\\\project\\\\youtube_English.xlsx', index=False)"
   ]
  },
  {
   "cell_type": "code",
   "execution_count": null,
   "id": "b6c287b4",
   "metadata": {},
   "outputs": [],
   "source": []
  },
  {
   "cell_type": "code",
   "execution_count": 71,
   "id": "6e357c9c",
   "metadata": {},
   "outputs": [],
   "source": []
  },
  {
   "cell_type": "code",
   "execution_count": 74,
   "id": "06cbcac2",
   "metadata": {},
   "outputs": [],
   "source": []
  },
  {
   "cell_type": "code",
   "execution_count": null,
   "id": "65a8f84d",
   "metadata": {},
   "outputs": [],
   "source": []
  },
  {
   "cell_type": "code",
   "execution_count": null,
   "id": "c51552b0",
   "metadata": {},
   "outputs": [],
   "source": []
  }
 ],
 "metadata": {
  "kernelspec": {
   "display_name": "Python 3 (ipykernel)",
   "language": "python",
   "name": "python3"
  },
  "language_info": {
   "codemirror_mode": {
    "name": "ipython",
    "version": 3
   },
   "file_extension": ".py",
   "mimetype": "text/x-python",
   "name": "python",
   "nbconvert_exporter": "python",
   "pygments_lexer": "ipython3",
   "version": "3.9.12"
  }
 },
 "nbformat": 4,
 "nbformat_minor": 5
}
